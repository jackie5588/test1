{
  "nbformat": 4,
  "nbformat_minor": 0,
  "metadata": {
    "kernelspec": {
      "display_name": "Python 3",
      "language": "python",
      "name": "python3"
    },
    "language_info": {
      "codemirror_mode": {
        "name": "ipython",
        "version": 3
      },
      "file_extension": ".py",
      "mimetype": "text/x-python",
      "name": "python",
      "nbconvert_exporter": "python",
      "pygments_lexer": "ipython3",
      "version": "3.6.2"
    },
    "colab": {
      "name": "Copy of kaggle_intro_iris.ipynb",
      "provenance": []
    }
  },
  "cells": [
    {
      "cell_type": "code",
      "metadata": {
        "id": "xcGkF_qDZ8l1",
        "colab_type": "code",
        "colab": {}
      },
      "source": [
        "import pandas as pd\n",
        "import numpy as np\n",
        "import matplotlib.pyplot as plt\n",
        "plt.rcParams['font.family']='SimHei' #顯示中文\n",
        "\n",
        "%matplotlib inline"
      ],
      "execution_count": 0,
      "outputs": []
    },
    {
      "cell_type": "code",
      "metadata": {
        "id": "-jkb4ZWOZ8mH",
        "colab_type": "code",
        "colab": {}
      },
      "source": [
        "import warnings\n",
        "warnings.filterwarnings('ignore')"
      ],
      "execution_count": 0,
      "outputs": []
    },
    {
      "cell_type": "markdown",
      "metadata": {
        "id": "JCXekdc9Z8mU",
        "colab_type": "text"
      },
      "source": [
        "## 資料載入與探索"
      ]
    },
    {
      "cell_type": "code",
      "metadata": {
        "id": "2rVU4nWiZ8mW",
        "colab_type": "code",
        "colab": {
          "base_uri": "https://localhost:8080/",
          "height": 359
        },
        "outputId": "9143e337-1dde-4227-82cb-b7959c21f6fc"
      },
      "source": [
        "# Load in the train datasets\n",
        "train = pd.read_csv('input/train.csv', encoding = \"utf-8\", dtype = {'type': np.int32})\n",
        "test = pd.read_csv('input/test.csv', encoding = \"utf-8\")\n",
        "submission = pd.read_csv('input/submission.csv', encoding = \"utf-8\", dtype = {'type': np.int32})"
      ],
      "execution_count": 3,
      "outputs": [
        {
          "output_type": "error",
          "ename": "FileNotFoundError",
          "evalue": "ignored",
          "traceback": [
            "\u001b[0;31m---------------------------------------------------------------------------\u001b[0m",
            "\u001b[0;31mFileNotFoundError\u001b[0m                         Traceback (most recent call last)",
            "\u001b[0;32m<ipython-input-3-9aeaacb6bf2c>\u001b[0m in \u001b[0;36m<module>\u001b[0;34m()\u001b[0m\n\u001b[1;32m      1\u001b[0m \u001b[0;31m# Load in the train datasets\u001b[0m\u001b[0;34m\u001b[0m\u001b[0;34m\u001b[0m\u001b[0;34m\u001b[0m\u001b[0m\n\u001b[0;32m----> 2\u001b[0;31m \u001b[0mtrain\u001b[0m \u001b[0;34m=\u001b[0m \u001b[0mpd\u001b[0m\u001b[0;34m.\u001b[0m\u001b[0mread_csv\u001b[0m\u001b[0;34m(\u001b[0m\u001b[0;34m'input/train.csv'\u001b[0m\u001b[0;34m,\u001b[0m \u001b[0mencoding\u001b[0m \u001b[0;34m=\u001b[0m \u001b[0;34m\"utf-8\"\u001b[0m\u001b[0;34m,\u001b[0m \u001b[0mdtype\u001b[0m \u001b[0;34m=\u001b[0m \u001b[0;34m{\u001b[0m\u001b[0;34m'type'\u001b[0m\u001b[0;34m:\u001b[0m \u001b[0mnp\u001b[0m\u001b[0;34m.\u001b[0m\u001b[0mint32\u001b[0m\u001b[0;34m}\u001b[0m\u001b[0;34m)\u001b[0m\u001b[0;34m\u001b[0m\u001b[0;34m\u001b[0m\u001b[0m\n\u001b[0m\u001b[1;32m      3\u001b[0m \u001b[0mtest\u001b[0m \u001b[0;34m=\u001b[0m \u001b[0mpd\u001b[0m\u001b[0;34m.\u001b[0m\u001b[0mread_csv\u001b[0m\u001b[0;34m(\u001b[0m\u001b[0;34m'input/test.csv'\u001b[0m\u001b[0;34m,\u001b[0m \u001b[0mencoding\u001b[0m \u001b[0;34m=\u001b[0m \u001b[0;34m\"utf-8\"\u001b[0m\u001b[0;34m)\u001b[0m\u001b[0;34m\u001b[0m\u001b[0;34m\u001b[0m\u001b[0m\n\u001b[1;32m      4\u001b[0m \u001b[0msubmission\u001b[0m \u001b[0;34m=\u001b[0m \u001b[0mpd\u001b[0m\u001b[0;34m.\u001b[0m\u001b[0mread_csv\u001b[0m\u001b[0;34m(\u001b[0m\u001b[0;34m'input/submission.csv'\u001b[0m\u001b[0;34m,\u001b[0m \u001b[0mencoding\u001b[0m \u001b[0;34m=\u001b[0m \u001b[0;34m\"utf-8\"\u001b[0m\u001b[0;34m,\u001b[0m \u001b[0mdtype\u001b[0m \u001b[0;34m=\u001b[0m \u001b[0;34m{\u001b[0m\u001b[0;34m'type'\u001b[0m\u001b[0;34m:\u001b[0m \u001b[0mnp\u001b[0m\u001b[0;34m.\u001b[0m\u001b[0mint32\u001b[0m\u001b[0;34m}\u001b[0m\u001b[0;34m)\u001b[0m\u001b[0;34m\u001b[0m\u001b[0;34m\u001b[0m\u001b[0m\n",
            "\u001b[0;32m/usr/local/lib/python3.6/dist-packages/pandas/io/parsers.py\u001b[0m in \u001b[0;36mparser_f\u001b[0;34m(filepath_or_buffer, sep, delimiter, header, names, index_col, usecols, squeeze, prefix, mangle_dupe_cols, dtype, engine, converters, true_values, false_values, skipinitialspace, skiprows, skipfooter, nrows, na_values, keep_default_na, na_filter, verbose, skip_blank_lines, parse_dates, infer_datetime_format, keep_date_col, date_parser, dayfirst, cache_dates, iterator, chunksize, compression, thousands, decimal, lineterminator, quotechar, quoting, doublequote, escapechar, comment, encoding, dialect, error_bad_lines, warn_bad_lines, delim_whitespace, low_memory, memory_map, float_precision)\u001b[0m\n\u001b[1;32m    674\u001b[0m         )\n\u001b[1;32m    675\u001b[0m \u001b[0;34m\u001b[0m\u001b[0m\n\u001b[0;32m--> 676\u001b[0;31m         \u001b[0;32mreturn\u001b[0m \u001b[0m_read\u001b[0m\u001b[0;34m(\u001b[0m\u001b[0mfilepath_or_buffer\u001b[0m\u001b[0;34m,\u001b[0m \u001b[0mkwds\u001b[0m\u001b[0;34m)\u001b[0m\u001b[0;34m\u001b[0m\u001b[0;34m\u001b[0m\u001b[0m\n\u001b[0m\u001b[1;32m    677\u001b[0m \u001b[0;34m\u001b[0m\u001b[0m\n\u001b[1;32m    678\u001b[0m     \u001b[0mparser_f\u001b[0m\u001b[0;34m.\u001b[0m\u001b[0m__name__\u001b[0m \u001b[0;34m=\u001b[0m \u001b[0mname\u001b[0m\u001b[0;34m\u001b[0m\u001b[0;34m\u001b[0m\u001b[0m\n",
            "\u001b[0;32m/usr/local/lib/python3.6/dist-packages/pandas/io/parsers.py\u001b[0m in \u001b[0;36m_read\u001b[0;34m(filepath_or_buffer, kwds)\u001b[0m\n\u001b[1;32m    446\u001b[0m \u001b[0;34m\u001b[0m\u001b[0m\n\u001b[1;32m    447\u001b[0m     \u001b[0;31m# Create the parser.\u001b[0m\u001b[0;34m\u001b[0m\u001b[0;34m\u001b[0m\u001b[0;34m\u001b[0m\u001b[0m\n\u001b[0;32m--> 448\u001b[0;31m     \u001b[0mparser\u001b[0m \u001b[0;34m=\u001b[0m \u001b[0mTextFileReader\u001b[0m\u001b[0;34m(\u001b[0m\u001b[0mfp_or_buf\u001b[0m\u001b[0;34m,\u001b[0m \u001b[0;34m**\u001b[0m\u001b[0mkwds\u001b[0m\u001b[0;34m)\u001b[0m\u001b[0;34m\u001b[0m\u001b[0;34m\u001b[0m\u001b[0m\n\u001b[0m\u001b[1;32m    449\u001b[0m \u001b[0;34m\u001b[0m\u001b[0m\n\u001b[1;32m    450\u001b[0m     \u001b[0;32mif\u001b[0m \u001b[0mchunksize\u001b[0m \u001b[0;32mor\u001b[0m \u001b[0miterator\u001b[0m\u001b[0;34m:\u001b[0m\u001b[0;34m\u001b[0m\u001b[0;34m\u001b[0m\u001b[0m\n",
            "\u001b[0;32m/usr/local/lib/python3.6/dist-packages/pandas/io/parsers.py\u001b[0m in \u001b[0;36m__init__\u001b[0;34m(self, f, engine, **kwds)\u001b[0m\n\u001b[1;32m    878\u001b[0m             \u001b[0mself\u001b[0m\u001b[0;34m.\u001b[0m\u001b[0moptions\u001b[0m\u001b[0;34m[\u001b[0m\u001b[0;34m\"has_index_names\"\u001b[0m\u001b[0;34m]\u001b[0m \u001b[0;34m=\u001b[0m \u001b[0mkwds\u001b[0m\u001b[0;34m[\u001b[0m\u001b[0;34m\"has_index_names\"\u001b[0m\u001b[0;34m]\u001b[0m\u001b[0;34m\u001b[0m\u001b[0;34m\u001b[0m\u001b[0m\n\u001b[1;32m    879\u001b[0m \u001b[0;34m\u001b[0m\u001b[0m\n\u001b[0;32m--> 880\u001b[0;31m         \u001b[0mself\u001b[0m\u001b[0;34m.\u001b[0m\u001b[0m_make_engine\u001b[0m\u001b[0;34m(\u001b[0m\u001b[0mself\u001b[0m\u001b[0;34m.\u001b[0m\u001b[0mengine\u001b[0m\u001b[0;34m)\u001b[0m\u001b[0;34m\u001b[0m\u001b[0;34m\u001b[0m\u001b[0m\n\u001b[0m\u001b[1;32m    881\u001b[0m \u001b[0;34m\u001b[0m\u001b[0m\n\u001b[1;32m    882\u001b[0m     \u001b[0;32mdef\u001b[0m \u001b[0mclose\u001b[0m\u001b[0;34m(\u001b[0m\u001b[0mself\u001b[0m\u001b[0;34m)\u001b[0m\u001b[0;34m:\u001b[0m\u001b[0;34m\u001b[0m\u001b[0;34m\u001b[0m\u001b[0m\n",
            "\u001b[0;32m/usr/local/lib/python3.6/dist-packages/pandas/io/parsers.py\u001b[0m in \u001b[0;36m_make_engine\u001b[0;34m(self, engine)\u001b[0m\n\u001b[1;32m   1112\u001b[0m     \u001b[0;32mdef\u001b[0m \u001b[0m_make_engine\u001b[0m\u001b[0;34m(\u001b[0m\u001b[0mself\u001b[0m\u001b[0;34m,\u001b[0m \u001b[0mengine\u001b[0m\u001b[0;34m=\u001b[0m\u001b[0;34m\"c\"\u001b[0m\u001b[0;34m)\u001b[0m\u001b[0;34m:\u001b[0m\u001b[0;34m\u001b[0m\u001b[0;34m\u001b[0m\u001b[0m\n\u001b[1;32m   1113\u001b[0m         \u001b[0;32mif\u001b[0m \u001b[0mengine\u001b[0m \u001b[0;34m==\u001b[0m \u001b[0;34m\"c\"\u001b[0m\u001b[0;34m:\u001b[0m\u001b[0;34m\u001b[0m\u001b[0;34m\u001b[0m\u001b[0m\n\u001b[0;32m-> 1114\u001b[0;31m             \u001b[0mself\u001b[0m\u001b[0;34m.\u001b[0m\u001b[0m_engine\u001b[0m \u001b[0;34m=\u001b[0m \u001b[0mCParserWrapper\u001b[0m\u001b[0;34m(\u001b[0m\u001b[0mself\u001b[0m\u001b[0;34m.\u001b[0m\u001b[0mf\u001b[0m\u001b[0;34m,\u001b[0m \u001b[0;34m**\u001b[0m\u001b[0mself\u001b[0m\u001b[0;34m.\u001b[0m\u001b[0moptions\u001b[0m\u001b[0;34m)\u001b[0m\u001b[0;34m\u001b[0m\u001b[0;34m\u001b[0m\u001b[0m\n\u001b[0m\u001b[1;32m   1115\u001b[0m         \u001b[0;32melse\u001b[0m\u001b[0;34m:\u001b[0m\u001b[0;34m\u001b[0m\u001b[0;34m\u001b[0m\u001b[0m\n\u001b[1;32m   1116\u001b[0m             \u001b[0;32mif\u001b[0m \u001b[0mengine\u001b[0m \u001b[0;34m==\u001b[0m \u001b[0;34m\"python\"\u001b[0m\u001b[0;34m:\u001b[0m\u001b[0;34m\u001b[0m\u001b[0;34m\u001b[0m\u001b[0m\n",
            "\u001b[0;32m/usr/local/lib/python3.6/dist-packages/pandas/io/parsers.py\u001b[0m in \u001b[0;36m__init__\u001b[0;34m(self, src, **kwds)\u001b[0m\n\u001b[1;32m   1872\u001b[0m         \u001b[0;32mif\u001b[0m \u001b[0mkwds\u001b[0m\u001b[0;34m.\u001b[0m\u001b[0mget\u001b[0m\u001b[0;34m(\u001b[0m\u001b[0;34m\"compression\"\u001b[0m\u001b[0;34m)\u001b[0m \u001b[0;32mis\u001b[0m \u001b[0;32mNone\u001b[0m \u001b[0;32mand\u001b[0m \u001b[0mencoding\u001b[0m\u001b[0;34m:\u001b[0m\u001b[0;34m\u001b[0m\u001b[0;34m\u001b[0m\u001b[0m\n\u001b[1;32m   1873\u001b[0m             \u001b[0;32mif\u001b[0m \u001b[0misinstance\u001b[0m\u001b[0;34m(\u001b[0m\u001b[0msrc\u001b[0m\u001b[0;34m,\u001b[0m \u001b[0mstr\u001b[0m\u001b[0;34m)\u001b[0m\u001b[0;34m:\u001b[0m\u001b[0;34m\u001b[0m\u001b[0;34m\u001b[0m\u001b[0m\n\u001b[0;32m-> 1874\u001b[0;31m                 \u001b[0msrc\u001b[0m \u001b[0;34m=\u001b[0m \u001b[0mopen\u001b[0m\u001b[0;34m(\u001b[0m\u001b[0msrc\u001b[0m\u001b[0;34m,\u001b[0m \u001b[0;34m\"rb\"\u001b[0m\u001b[0;34m)\u001b[0m\u001b[0;34m\u001b[0m\u001b[0;34m\u001b[0m\u001b[0m\n\u001b[0m\u001b[1;32m   1875\u001b[0m                 \u001b[0mself\u001b[0m\u001b[0;34m.\u001b[0m\u001b[0mhandles\u001b[0m\u001b[0;34m.\u001b[0m\u001b[0mappend\u001b[0m\u001b[0;34m(\u001b[0m\u001b[0msrc\u001b[0m\u001b[0;34m)\u001b[0m\u001b[0;34m\u001b[0m\u001b[0;34m\u001b[0m\u001b[0m\n\u001b[1;32m   1876\u001b[0m \u001b[0;34m\u001b[0m\u001b[0m\n",
            "\u001b[0;31mFileNotFoundError\u001b[0m: [Errno 2] No such file or directory: 'input/train.csv'"
          ]
        }
      ]
    },
    {
      "cell_type": "code",
      "metadata": {
        "id": "G0r-iuvXZ8mm",
        "colab_type": "code",
        "outputId": "1092bb13-460a-4850-97a4-d00912578e22",
        "colab": {}
      },
      "source": [
        "train.head(3)"
      ],
      "execution_count": 0,
      "outputs": [
        {
          "output_type": "execute_result",
          "data": {
            "text/html": [
              "<div>\n",
              "<style>\n",
              "    .dataframe thead tr:only-child th {\n",
              "        text-align: right;\n",
              "    }\n",
              "\n",
              "    .dataframe thead th {\n",
              "        text-align: left;\n",
              "    }\n",
              "\n",
              "    .dataframe tbody tr th {\n",
              "        vertical-align: top;\n",
              "    }\n",
              "</style>\n",
              "<table border=\"1\" class=\"dataframe\">\n",
              "  <thead>\n",
              "    <tr style=\"text-align: right;\">\n",
              "      <th></th>\n",
              "      <th>id</th>\n",
              "      <th>花萼長度</th>\n",
              "      <th>花萼寬度</th>\n",
              "      <th>花瓣長度</th>\n",
              "      <th>花瓣寬度</th>\n",
              "      <th>屬種</th>\n",
              "      <th>type</th>\n",
              "    </tr>\n",
              "  </thead>\n",
              "  <tbody>\n",
              "    <tr>\n",
              "      <th>0</th>\n",
              "      <td>1</td>\n",
              "      <td>5.4</td>\n",
              "      <td>3.7</td>\n",
              "      <td>1.5</td>\n",
              "      <td>0.2</td>\n",
              "      <td>Iris-setosa</td>\n",
              "      <td>1</td>\n",
              "    </tr>\n",
              "    <tr>\n",
              "      <th>1</th>\n",
              "      <td>2</td>\n",
              "      <td>4.8</td>\n",
              "      <td>3.4</td>\n",
              "      <td>1.6</td>\n",
              "      <td>0.2</td>\n",
              "      <td>Iris-setosa</td>\n",
              "      <td>1</td>\n",
              "    </tr>\n",
              "    <tr>\n",
              "      <th>2</th>\n",
              "      <td>3</td>\n",
              "      <td>4.8</td>\n",
              "      <td>3.0</td>\n",
              "      <td>1.4</td>\n",
              "      <td>0.1</td>\n",
              "      <td>Iris-setosa</td>\n",
              "      <td>1</td>\n",
              "    </tr>\n",
              "  </tbody>\n",
              "</table>\n",
              "</div>"
            ],
            "text/plain": [
              "   id  花萼長度  花萼寬度  花瓣長度  花瓣寬度           屬種  type\n",
              "0   1   5.4   3.7   1.5   0.2  Iris-setosa     1\n",
              "1   2   4.8   3.4   1.6   0.2  Iris-setosa     1\n",
              "2   3   4.8   3.0   1.4   0.1  Iris-setosa     1"
            ]
          },
          "metadata": {
            "tags": []
          },
          "execution_count": 4
        }
      ]
    },
    {
      "cell_type": "code",
      "metadata": {
        "id": "TFT3DZHTZ8m2",
        "colab_type": "code",
        "outputId": "f2c4a424-a863-474d-9c0f-b1485879821d",
        "colab": {}
      },
      "source": [
        "test.head(3)"
      ],
      "execution_count": 0,
      "outputs": [
        {
          "output_type": "execute_result",
          "data": {
            "text/html": [
              "<div>\n",
              "<style>\n",
              "    .dataframe thead tr:only-child th {\n",
              "        text-align: right;\n",
              "    }\n",
              "\n",
              "    .dataframe thead th {\n",
              "        text-align: left;\n",
              "    }\n",
              "\n",
              "    .dataframe tbody tr th {\n",
              "        vertical-align: top;\n",
              "    }\n",
              "</style>\n",
              "<table border=\"1\" class=\"dataframe\">\n",
              "  <thead>\n",
              "    <tr style=\"text-align: right;\">\n",
              "      <th></th>\n",
              "      <th>id</th>\n",
              "      <th>花萼長度</th>\n",
              "      <th>花萼寬度</th>\n",
              "      <th>花瓣長度</th>\n",
              "      <th>花瓣寬度</th>\n",
              "    </tr>\n",
              "  </thead>\n",
              "  <tbody>\n",
              "    <tr>\n",
              "      <th>0</th>\n",
              "      <td>1</td>\n",
              "      <td>5.1</td>\n",
              "      <td>3.5</td>\n",
              "      <td>1.4</td>\n",
              "      <td>0.2</td>\n",
              "    </tr>\n",
              "    <tr>\n",
              "      <th>1</th>\n",
              "      <td>2</td>\n",
              "      <td>4.9</td>\n",
              "      <td>3.0</td>\n",
              "      <td>1.4</td>\n",
              "      <td>0.2</td>\n",
              "    </tr>\n",
              "    <tr>\n",
              "      <th>2</th>\n",
              "      <td>3</td>\n",
              "      <td>4.7</td>\n",
              "      <td>3.2</td>\n",
              "      <td>1.3</td>\n",
              "      <td>0.2</td>\n",
              "    </tr>\n",
              "  </tbody>\n",
              "</table>\n",
              "</div>"
            ],
            "text/plain": [
              "   id  花萼長度  花萼寬度  花瓣長度  花瓣寬度\n",
              "0   1   5.1   3.5   1.4   0.2\n",
              "1   2   4.9   3.0   1.4   0.2\n",
              "2   3   4.7   3.2   1.3   0.2"
            ]
          },
          "metadata": {
            "tags": []
          },
          "execution_count": 5
        }
      ]
    },
    {
      "cell_type": "code",
      "metadata": {
        "id": "t19To_ZpZ8nD",
        "colab_type": "code",
        "outputId": "d60c54dc-6df3-490d-d49f-b9c8af715749",
        "colab": {}
      },
      "source": [
        "submission.head(3)"
      ],
      "execution_count": 0,
      "outputs": [
        {
          "output_type": "execute_result",
          "data": {
            "text/html": [
              "<div>\n",
              "<style>\n",
              "    .dataframe thead tr:only-child th {\n",
              "        text-align: right;\n",
              "    }\n",
              "\n",
              "    .dataframe thead th {\n",
              "        text-align: left;\n",
              "    }\n",
              "\n",
              "    .dataframe tbody tr th {\n",
              "        vertical-align: top;\n",
              "    }\n",
              "</style>\n",
              "<table border=\"1\" class=\"dataframe\">\n",
              "  <thead>\n",
              "    <tr style=\"text-align: right;\">\n",
              "      <th></th>\n",
              "      <th>id</th>\n",
              "      <th>type</th>\n",
              "    </tr>\n",
              "  </thead>\n",
              "  <tbody>\n",
              "    <tr>\n",
              "      <th>0</th>\n",
              "      <td>1</td>\n",
              "      <td>1</td>\n",
              "    </tr>\n",
              "    <tr>\n",
              "      <th>1</th>\n",
              "      <td>2</td>\n",
              "      <td>1</td>\n",
              "    </tr>\n",
              "    <tr>\n",
              "      <th>2</th>\n",
              "      <td>3</td>\n",
              "      <td>1</td>\n",
              "    </tr>\n",
              "  </tbody>\n",
              "</table>\n",
              "</div>"
            ],
            "text/plain": [
              "   id  type\n",
              "0   1     1\n",
              "1   2     1\n",
              "2   3     1"
            ]
          },
          "metadata": {
            "tags": []
          },
          "execution_count": 6
        }
      ]
    },
    {
      "cell_type": "markdown",
      "metadata": {
        "id": "JR1-aoUHZ8nO",
        "colab_type": "text"
      },
      "source": [
        "### One-hot Encoding"
      ]
    },
    {
      "cell_type": "code",
      "metadata": {
        "id": "TyHf3fDHZ8nS",
        "colab_type": "code",
        "outputId": "2f6f2ff9-6735-4f4e-ca95-e1e1378e7539",
        "colab": {}
      },
      "source": [
        "df1 = pd.get_dummies(train['屬種'])\n",
        "df1.sample(5)"
      ],
      "execution_count": 0,
      "outputs": [
        {
          "output_type": "execute_result",
          "data": {
            "text/html": [
              "<div>\n",
              "<style>\n",
              "    .dataframe thead tr:only-child th {\n",
              "        text-align: right;\n",
              "    }\n",
              "\n",
              "    .dataframe thead th {\n",
              "        text-align: left;\n",
              "    }\n",
              "\n",
              "    .dataframe tbody tr th {\n",
              "        vertical-align: top;\n",
              "    }\n",
              "</style>\n",
              "<table border=\"1\" class=\"dataframe\">\n",
              "  <thead>\n",
              "    <tr style=\"text-align: right;\">\n",
              "      <th></th>\n",
              "      <th>Iris-new_type</th>\n",
              "      <th>Iris-setosa</th>\n",
              "      <th>Iris-versicolor</th>\n",
              "      <th>Iris-virginica</th>\n",
              "    </tr>\n",
              "  </thead>\n",
              "  <tbody>\n",
              "    <tr>\n",
              "      <th>116</th>\n",
              "      <td>0</td>\n",
              "      <td>0</td>\n",
              "      <td>0</td>\n",
              "      <td>1</td>\n",
              "    </tr>\n",
              "    <tr>\n",
              "      <th>121</th>\n",
              "      <td>1</td>\n",
              "      <td>0</td>\n",
              "      <td>0</td>\n",
              "      <td>0</td>\n",
              "    </tr>\n",
              "    <tr>\n",
              "      <th>113</th>\n",
              "      <td>0</td>\n",
              "      <td>0</td>\n",
              "      <td>0</td>\n",
              "      <td>1</td>\n",
              "    </tr>\n",
              "    <tr>\n",
              "      <th>55</th>\n",
              "      <td>0</td>\n",
              "      <td>0</td>\n",
              "      <td>1</td>\n",
              "      <td>0</td>\n",
              "    </tr>\n",
              "    <tr>\n",
              "      <th>42</th>\n",
              "      <td>0</td>\n",
              "      <td>0</td>\n",
              "      <td>1</td>\n",
              "      <td>0</td>\n",
              "    </tr>\n",
              "  </tbody>\n",
              "</table>\n",
              "</div>"
            ],
            "text/plain": [
              "     Iris-new_type  Iris-setosa  Iris-versicolor  Iris-virginica\n",
              "116              0            0                0               1\n",
              "121              1            0                0               0\n",
              "113              0            0                0               1\n",
              "55               0            0                1               0\n",
              "42               0            0                1               0"
            ]
          },
          "metadata": {
            "tags": []
          },
          "execution_count": 7
        }
      ]
    },
    {
      "cell_type": "markdown",
      "metadata": {
        "id": "liHXtYAfZ8ne",
        "colab_type": "text"
      },
      "source": [
        "### LabelEncoding"
      ]
    },
    {
      "cell_type": "code",
      "metadata": {
        "scrolled": true,
        "id": "PnI3JclRZ8ng",
        "colab_type": "code",
        "outputId": "afb19d88-8aeb-4ee5-e6b0-4b3923375ed5",
        "colab": {}
      },
      "source": [
        "df2 = train['屬種'].replace({'Iris-setosa':1,'Iris-versicolor':2,'Iris-virginica':3})\n",
        "df2.sample(5)"
      ],
      "execution_count": 0,
      "outputs": [
        {
          "output_type": "execute_result",
          "data": {
            "text/plain": [
              "113    3\n",
              "93     3\n",
              "94     3\n",
              "6      1\n",
              "32     1\n",
              "Name: 屬種, dtype: object"
            ]
          },
          "metadata": {
            "tags": []
          },
          "execution_count": 8
        }
      ]
    },
    {
      "cell_type": "markdown",
      "metadata": {
        "id": "JOv0_v8GZ8nr",
        "colab_type": "text"
      },
      "source": [
        "## Data clean - 缺值處理"
      ]
    },
    {
      "cell_type": "code",
      "metadata": {
        "id": "Ahs-2JXeZ8nt",
        "colab_type": "code",
        "outputId": "15f066a0-1217-4263-a71e-4918b9f1ba5b",
        "colab": {}
      },
      "source": [
        "#missing data\n",
        "miss_sum = train.isnull().sum().sort_values(ascending=False)\n",
        "miss_sum"
      ],
      "execution_count": 0,
      "outputs": [
        {
          "output_type": "execute_result",
          "data": {
            "text/plain": [
              "花萼寬度    1\n",
              "花萼長度    1\n",
              "type    0\n",
              "屬種      0\n",
              "花瓣寬度    0\n",
              "花瓣長度    0\n",
              "id      0\n",
              "dtype: int64"
            ]
          },
          "metadata": {
            "tags": []
          },
          "execution_count": 9
        }
      ]
    },
    {
      "cell_type": "code",
      "metadata": {
        "id": "YO-wN8u0Z8n9",
        "colab_type": "code",
        "outputId": "793b906e-7f1f-4ca9-8e5f-c225d3a6752c",
        "colab": {}
      },
      "source": [
        "#查詢那幾筆是空值\n",
        "print(train[train['花萼寬度'].isnull()])\n",
        "print(\"--------------------------------\")\n",
        "print(train[train['花萼長度'].isnull()])"
      ],
      "execution_count": 0,
      "outputs": [
        {
          "output_type": "stream",
          "text": [
            "      id  花萼長度  花萼寬度  花瓣長度  花瓣寬度             屬種  type\n",
            "121  122   5.2   NaN   5.1   1.8  Iris-new_type     4\n",
            "--------------------------------\n",
            "      id  花萼長度  花萼寬度  花瓣長度  花瓣寬度             屬種  type\n",
            "120  121   NaN   3.0   4.9   1.2  Iris-new_type     4\n"
          ],
          "name": "stdout"
        }
      ]
    },
    {
      "cell_type": "code",
      "metadata": {
        "id": "5dsi4uyOZ8oI",
        "colab_type": "code",
        "outputId": "602538d9-862c-47b7-aebf-cca7e15cddf8",
        "colab": {}
      },
      "source": [
        "#直接把 NaN drop (如果筆數很少,不影響建模的時候)\n",
        "train_d_na = train.dropna().reset_index(drop=True)\n",
        "train_d_na.isnull().sum().sort_values(ascending=False)"
      ],
      "execution_count": 0,
      "outputs": [
        {
          "output_type": "execute_result",
          "data": {
            "text/plain": [
              "type    0\n",
              "屬種      0\n",
              "花瓣寬度    0\n",
              "花瓣長度    0\n",
              "花萼寬度    0\n",
              "花萼長度    0\n",
              "id      0\n",
              "dtype: int64"
            ]
          },
          "metadata": {
            "tags": []
          },
          "execution_count": 11
        }
      ]
    },
    {
      "cell_type": "code",
      "metadata": {
        "id": "IOqx427wZ8oW",
        "colab_type": "code",
        "outputId": "0cf7ae19-81a5-4867-b64c-15478083572b",
        "colab": {}
      },
      "source": [
        "#將空值補平均數\n",
        "#train.loc[train['花萼寬度'].isnull(),['花萼寬度']] = train['花萼寬度'].mean() #花萼寬度:第2欄\n",
        "train[['花萼寬度']] = train[['花萼寬度']].fillna(np.mean(train[['花萼寬度']]))\n",
        "\n",
        "train.plot(kind='line',y='花萼寬度',figsize=(10,6),fontsize=14,title='花萼寬度')"
      ],
      "execution_count": 0,
      "outputs": [
        {
          "output_type": "execute_result",
          "data": {
            "text/plain": [
              "<matplotlib.axes._subplots.AxesSubplot at 0xa30df98>"
            ]
          },
          "metadata": {
            "tags": []
          },
          "execution_count": 12
        },
        {
          "output_type": "display_data",
          "data": {
            "image/png": "[encoded data removed]",
            "text/plain": [
              "<matplotlib.figure.Figure at 0xa34a5c0>"
            ]
          },
          "metadata": {
            "tags": []
          }
        }
      ]
    },
    {
      "cell_type": "code",
      "metadata": {
        "id": "5JkY26stZ8oh",
        "colab_type": "code",
        "outputId": "a5dddaa3-9dca-498f-c667-61fd6112992a",
        "colab": {}
      },
      "source": [
        "#將空值補眾數\n",
        "#train.loc[train['花萼長度'].isnull(),['花萼長度']] = train['花萼長度'].mode()[0] #花萼長度:第1欄\n",
        "train[['花萼長度']] = train[['花萼長度']].fillna(train['花萼長度'].mode()[0])\n",
        "\n",
        "train.plot(kind='line',y='花萼長度',figsize=(10,6),fontsize=14,title='花萼長度')"
      ],
      "execution_count": 0,
      "outputs": [
        {
          "output_type": "execute_result",
          "data": {
            "text/plain": [
              "<matplotlib.axes._subplots.AxesSubplot at 0xa426908>"
            ]
          },
          "metadata": {
            "tags": []
          },
          "execution_count": 13
        },
        {
          "output_type": "display_data",
          "data": {
            "image/png": "[encoded data removed]",
            "text/plain": [
              "<matplotlib.figure.Figure at 0xa30d710>"
            ]
          },
          "metadata": {
            "tags": []
          }
        }
      ]
    },
    {
      "cell_type": "code",
      "metadata": {
        "id": "L9aKlLaNZ8oq",
        "colab_type": "code",
        "outputId": "0c5d3cb2-31bb-49d9-a714-3ac51d4dd0c1",
        "colab": {}
      },
      "source": [
        "from pandas.plotting import scatter_matrix\n",
        "scatter_matrix( train[['花瓣寬度','花瓣長度','花萼寬度','花萼長度']],figsize=(10, 10),color='b')"
      ],
      "execution_count": 0,
      "outputs": [
        {
          "output_type": "execute_result",
          "data": {
            "text/plain": [
              "array([[<matplotlib.axes._subplots.AxesSubplot object at 0x000000000A5F9978>,\n",
              "        <matplotlib.axes._subplots.AxesSubplot object at 0x000000000A665CC0>,\n",
              "        <matplotlib.axes._subplots.AxesSubplot object at 0x000000000A675D68>,\n",
              "        <matplotlib.axes._subplots.AxesSubplot object at 0x000000000A79EDD8>],\n",
              "       [<matplotlib.axes._subplots.AxesSubplot object at 0x000000000A8005C0>,\n",
              "        <matplotlib.axes._subplots.AxesSubplot object at 0x000000000A8005F8>,\n",
              "        <matplotlib.axes._subplots.AxesSubplot object at 0x000000000B8CBF98>,\n",
              "        <matplotlib.axes._subplots.AxesSubplot object at 0x000000000B948C50>],\n",
              "       [<matplotlib.axes._subplots.AxesSubplot object at 0x000000000B997CF8>,\n",
              "        <matplotlib.axes._subplots.AxesSubplot object at 0x000000000BA17518>,\n",
              "        <matplotlib.axes._subplots.AxesSubplot object at 0x000000000BA6D668>,\n",
              "        <matplotlib.axes._subplots.AxesSubplot object at 0x000000000BAA8668>],\n",
              "       [<matplotlib.axes._subplots.AxesSubplot object at 0x000000000BB3B860>,\n",
              "        <matplotlib.axes._subplots.AxesSubplot object at 0x000000000BB4CF60>,\n",
              "        <matplotlib.axes._subplots.AxesSubplot object at 0x000000000BC08898>,\n",
              "        <matplotlib.axes._subplots.AxesSubplot object at 0x000000000BC6B080>]], dtype=object)"
            ]
          },
          "metadata": {
            "tags": []
          },
          "execution_count": 14
        },
        {
          "output_type": "display_data",
          "data": {
            "image/png": "[encoded data removed]",
            "text/plain": [
              "<matplotlib.figure.Figure at 0xa33b198>"
            ]
          },
          "metadata": {
            "tags": []
          }
        }
      ]
    },
    {
      "cell_type": "markdown",
      "metadata": {
        "id": "iD_64SBXZ8oy",
        "colab_type": "text"
      },
      "source": [
        "## 相關分析"
      ]
    },
    {
      "cell_type": "code",
      "metadata": {
        "id": "laMNjDzBZ8oy",
        "colab_type": "code",
        "outputId": "84d44e78-c50e-4864-9545-fc304e44ea92",
        "colab": {}
      },
      "source": [
        "corr = train[['花瓣寬度','花瓣長度','花萼寬度','花萼長度']].corr()\n",
        "print(corr)"
      ],
      "execution_count": 0,
      "outputs": [
        {
          "output_type": "stream",
          "text": [
            "          花瓣寬度      花瓣長度      花萼寬度      花萼長度\n",
            "花瓣寬度  1.000000  0.958595 -0.367957  0.810219\n",
            "花瓣長度  0.958595  1.000000 -0.436213  0.850649\n",
            "花萼寬度 -0.367957 -0.436213  1.000000 -0.130174\n",
            "花萼長度  0.810219  0.850649 -0.130174  1.000000\n"
          ],
          "name": "stdout"
        }
      ]
    },
    {
      "cell_type": "code",
      "metadata": {
        "id": "NT9gS1TJZ8o4",
        "colab_type": "code",
        "outputId": "19544506-00fc-4fb6-d5ed-ae1a62755354",
        "colab": {}
      },
      "source": [
        "import seaborn as sns\n",
        "plt.rcParams['font.family']='DFKai-SB' #顯示中文\n",
        "plt.figure(figsize=(10,10))\n",
        "sns.heatmap(corr, square=True, annot=True, cmap=\"RdBu_r\") #center=0, cmap=\"YlGnBu\"\n",
        "#sns.plt.show()\n",
        "\n",
        "# http://seaborn.pydata.org/tutorial/color_palettes.html"
      ],
      "execution_count": 0,
      "outputs": [
        {
          "output_type": "execute_result",
          "data": {
            "text/plain": [
              "<matplotlib.axes._subplots.AxesSubplot at 0xd25af28>"
            ]
          },
          "metadata": {
            "tags": []
          },
          "execution_count": 16
        },
        {
          "output_type": "display_data",
          "data": {
            "image/png": "[encoded data removed]",
            "text/plain": [
              "<matplotlib.figure.Figure at 0xbddb898>"
            ]
          },
          "metadata": {
            "tags": []
          }
        }
      ]
    },
    {
      "cell_type": "markdown",
      "metadata": {
        "id": "kRRnbUMXZ8o8",
        "colab_type": "text"
      },
      "source": [
        "## 離群值分析"
      ]
    },
    {
      "cell_type": "code",
      "metadata": {
        "id": "yIGfzUw1Z8o9",
        "colab_type": "code",
        "outputId": "295cffe6-4b0f-432b-d9e0-c8c03b7051ce",
        "colab": {}
      },
      "source": [
        "#train[['花瓣寬度','花瓣長度','花萼寬度','花萼長度']]\n",
        "fig, axes = plt.subplots(nrows=2, ncols=4, figsize=(10, 10), sharey=True)\n",
        "\n",
        "axes[0, 0].boxplot(train['花萼寬度'],showmeans=True)\n",
        "axes[0, 0].set_title('訓:花萼寬度')\n",
        "\n",
        "axes[0, 1].boxplot(train['花瓣寬度'],showmeans=True)\n",
        "axes[0, 1].set_title('訓:花瓣寬度')\n",
        "\n",
        "axes[0, 2].boxplot(train['花瓣長度'],showmeans=True)\n",
        "axes[0, 2].set_title('訓:花瓣長度')\n",
        "\n",
        "axes[0, 3].boxplot(train['花萼長度'],showmeans=True)\n",
        "axes[0, 3].set_title('訓:花萼長度')\n",
        "\n",
        "axes[1, 0].boxplot(test['花萼寬度'],showmeans=True)\n",
        "axes[1, 0].set_title('測:花萼寬度')\n",
        "\n",
        "axes[1, 1].boxplot(test['花瓣寬度'],showmeans=True)\n",
        "axes[1, 1].set_title('測:花瓣寬度')\n",
        "\n",
        "axes[1, 2].boxplot(test['花瓣長度'],showmeans=True)\n",
        "axes[1, 2].set_title('測:花瓣長度')\n",
        "\n",
        "axes[1, 3].boxplot(test['花萼長度'],showmeans=True)\n",
        "axes[1, 3].set_title('測:花萼長度')"
      ],
      "execution_count": 0,
      "outputs": [
        {
          "output_type": "execute_result",
          "data": {
            "text/plain": [
              "<matplotlib.text.Text at 0xdae91d0>"
            ]
          },
          "metadata": {
            "tags": []
          },
          "execution_count": 17
        },
        {
          "output_type": "display_data",
          "data": {
            "image/png": "[encoded data removed]",
            "text/plain": [
              "<matplotlib.figure.Figure at 0xd460940>"
            ]
          },
          "metadata": {
            "tags": []
          }
        }
      ]
    },
    {
      "cell_type": "code",
      "metadata": {
        "scrolled": true,
        "id": "4ifV4tGtZ8pB",
        "colab_type": "code",
        "outputId": "24e1a8f2-444c-4ecc-ea73-015decab9325",
        "colab": {}
      },
      "source": [
        "train.plot(kind='bar',y='花萼寬度',figsize=(30,6),fontsize=14,title='花萼寬度')"
      ],
      "execution_count": 0,
      "outputs": [
        {
          "output_type": "execute_result",
          "data": {
            "text/plain": [
              "<matplotlib.axes._subplots.AxesSubplot at 0xd68b940>"
            ]
          },
          "metadata": {
            "tags": []
          },
          "execution_count": 18
        },
        {
          "output_type": "display_data",
          "data": {
            "image/png": "[encoded data removed]",
            "text/plain": [
              "<matplotlib.figure.Figure at 0xbe5cfd0>"
            ]
          },
          "metadata": {
            "tags": []
          }
        }
      ]
    },
    {
      "cell_type": "code",
      "metadata": {
        "collapsed": true,
        "id": "LV9EdoUzZ8pE",
        "colab_type": "code",
        "colab": {}
      },
      "source": [
        "#IQR = Q3-Q1\n",
        "IQR = np.percentile(train['花萼寬度'],75) - np.percentile(train['花萼寬度'],25)"
      ],
      "execution_count": 0,
      "outputs": []
    },
    {
      "cell_type": "code",
      "metadata": {
        "id": "6h9XesDaZ8pH",
        "colab_type": "code",
        "outputId": "689bbdd9-4921-474b-b2cb-c5129e282b1b",
        "colab": {}
      },
      "source": [
        "#outlier = Q3 + 1.5*IQR , or. Q1 - 1.5*IQR\n",
        "train[train['花萼寬度'] > np.percentile(train['花萼寬度'],75)+1.5*IQR]"
      ],
      "execution_count": 0,
      "outputs": [
        {
          "output_type": "execute_result",
          "data": {
            "text/html": [
              "<div>\n",
              "<style>\n",
              "    .dataframe thead tr:only-child th {\n",
              "        text-align: right;\n",
              "    }\n",
              "\n",
              "    .dataframe thead th {\n",
              "        text-align: left;\n",
              "    }\n",
              "\n",
              "    .dataframe tbody tr th {\n",
              "        vertical-align: top;\n",
              "    }\n",
              "</style>\n",
              "<table border=\"1\" class=\"dataframe\">\n",
              "  <thead>\n",
              "    <tr style=\"text-align: right;\">\n",
              "      <th></th>\n",
              "      <th>id</th>\n",
              "      <th>花萼長度</th>\n",
              "      <th>花萼寬度</th>\n",
              "      <th>花瓣長度</th>\n",
              "      <th>花瓣寬度</th>\n",
              "      <th>屬種</th>\n",
              "      <th>type</th>\n",
              "    </tr>\n",
              "  </thead>\n",
              "  <tbody>\n",
              "    <tr>\n",
              "      <th>5</th>\n",
              "      <td>6</td>\n",
              "      <td>5.7</td>\n",
              "      <td>4.4</td>\n",
              "      <td>1.5</td>\n",
              "      <td>0.4</td>\n",
              "      <td>Iris-setosa</td>\n",
              "      <td>1</td>\n",
              "    </tr>\n",
              "    <tr>\n",
              "      <th>22</th>\n",
              "      <td>23</td>\n",
              "      <td>5.2</td>\n",
              "      <td>4.1</td>\n",
              "      <td>1.5</td>\n",
              "      <td>0.1</td>\n",
              "      <td>Iris-setosa</td>\n",
              "      <td>1</td>\n",
              "    </tr>\n",
              "    <tr>\n",
              "      <th>23</th>\n",
              "      <td>24</td>\n",
              "      <td>5.5</td>\n",
              "      <td>4.2</td>\n",
              "      <td>1.4</td>\n",
              "      <td>0.2</td>\n",
              "      <td>Iris-setosa</td>\n",
              "      <td>1</td>\n",
              "    </tr>\n",
              "  </tbody>\n",
              "</table>\n",
              "</div>"
            ],
            "text/plain": [
              "    id  花萼長度  花萼寬度  花瓣長度  花瓣寬度           屬種  type\n",
              "5    6   5.7   4.4   1.5   0.4  Iris-setosa     1\n",
              "22  23   5.2   4.1   1.5   0.1  Iris-setosa     1\n",
              "23  24   5.5   4.2   1.4   0.2  Iris-setosa     1"
            ]
          },
          "metadata": {
            "tags": []
          },
          "execution_count": 20
        }
      ]
    },
    {
      "cell_type": "code",
      "metadata": {
        "id": "z4NomSkNZ8pK",
        "colab_type": "code",
        "outputId": "cdfaa5e6-aaaf-4072-dc08-a7b757099b0f",
        "colab": {}
      },
      "source": [
        "#outlier = Q3 + 1.5*IQR , or. Q1 - 1.5*IQR\n",
        "train[train['花萼寬度'] < np.percentile(train['花萼寬度'],25)-1.5*IQR]"
      ],
      "execution_count": 0,
      "outputs": [
        {
          "output_type": "execute_result",
          "data": {
            "text/html": [
              "<div>\n",
              "<style>\n",
              "    .dataframe thead tr:only-child th {\n",
              "        text-align: right;\n",
              "    }\n",
              "\n",
              "    .dataframe thead th {\n",
              "        text-align: left;\n",
              "    }\n",
              "\n",
              "    .dataframe tbody tr th {\n",
              "        vertical-align: top;\n",
              "    }\n",
              "</style>\n",
              "<table border=\"1\" class=\"dataframe\">\n",
              "  <thead>\n",
              "    <tr style=\"text-align: right;\">\n",
              "      <th></th>\n",
              "      <th>id</th>\n",
              "      <th>花萼長度</th>\n",
              "      <th>花萼寬度</th>\n",
              "      <th>花瓣長度</th>\n",
              "      <th>花瓣寬度</th>\n",
              "      <th>屬種</th>\n",
              "      <th>type</th>\n",
              "    </tr>\n",
              "  </thead>\n",
              "  <tbody>\n",
              "    <tr>\n",
              "      <th>40</th>\n",
              "      <td>41</td>\n",
              "      <td>5.0</td>\n",
              "      <td>2.0</td>\n",
              "      <td>3.5</td>\n",
              "      <td>1.0</td>\n",
              "      <td>Iris-versicolor</td>\n",
              "      <td>2</td>\n",
              "    </tr>\n",
              "  </tbody>\n",
              "</table>\n",
              "</div>"
            ],
            "text/plain": [
              "    id  花萼長度  花萼寬度  花瓣長度  花瓣寬度               屬種  type\n",
              "40  41   5.0   2.0   3.5   1.0  Iris-versicolor     2"
            ]
          },
          "metadata": {
            "tags": []
          },
          "execution_count": 21
        }
      ]
    },
    {
      "cell_type": "code",
      "metadata": {
        "collapsed": true,
        "id": "pH2-IXUBZ8pM",
        "colab_type": "code",
        "colab": {}
      },
      "source": [
        "#fix_X = X.drop(X.index[[5,23,40]])\n",
        "#fix_y = y.drop(y.index[[5,23,40]])"
      ],
      "execution_count": 0,
      "outputs": []
    },
    {
      "cell_type": "markdown",
      "metadata": {
        "id": "g1I4YHdmZ8pP",
        "colab_type": "text"
      },
      "source": [
        "## 切分資料 (從官方的training data切分出來)"
      ]
    },
    {
      "cell_type": "code",
      "metadata": {
        "collapsed": true,
        "id": "NpOv3sMzZ8pP",
        "colab_type": "code",
        "colab": {}
      },
      "source": [
        "#把示範用的 type 4, 資料去除, 以免干擾建模\n",
        "train = train[train['type']!=4]"
      ],
      "execution_count": 0,
      "outputs": []
    },
    {
      "cell_type": "code",
      "metadata": {
        "collapsed": true,
        "id": "tqBkBgJXZ8pT",
        "colab_type": "code",
        "colab": {}
      },
      "source": [
        "from sklearn.model_selection import train_test_split\n",
        "\n",
        "X = train[['花瓣寬度','花瓣長度','花萼寬度','花萼長度']]\n",
        "y = train['type']\n",
        "X_train, X_test, y_train, y_test = train_test_split(X, y, test_size = 0.3, random_state=100)"
      ],
      "execution_count": 0,
      "outputs": []
    },
    {
      "cell_type": "markdown",
      "metadata": {
        "id": "Lf3XbWSSZ8pX",
        "colab_type": "text"
      },
      "source": [
        "## 標準化"
      ]
    },
    {
      "cell_type": "code",
      "metadata": {
        "collapsed": true,
        "id": "wNqwAZdFZ8pX",
        "colab_type": "code",
        "colab": {}
      },
      "source": [
        "from sklearn.preprocessing import StandardScaler\n",
        "sc = StandardScaler()\n",
        "sc.fit(X_train)\n",
        "X_train_std = sc.transform(X_train)\n",
        "X_test_std = sc.transform(X_test)"
      ],
      "execution_count": 0,
      "outputs": []
    },
    {
      "cell_type": "code",
      "metadata": {
        "id": "-qRj3eaoZ8pa",
        "colab_type": "code",
        "outputId": "13d731e4-b5db-477e-99dc-999f53eaa7f4",
        "colab": {}
      },
      "source": [
        "X_train_std[0:5]"
      ],
      "execution_count": 0,
      "outputs": [
        {
          "output_type": "execute_result",
          "data": {
            "text/plain": [
              "array([[ 0.82172682,  1.27937769,  0.47468749,  1.65481456],\n",
              "       [ 1.36523117,  1.04600587, -0.44195042,  0.65747341],\n",
              "       [-1.35229059, -1.2877124 ,  0.24552801, -1.33720889],\n",
              "       [ 0.41409855,  0.22920447,  0.01636853,  0.03413519],\n",
              "       [-1.08053842, -1.46274127,  2.07880383, -0.58920303]])"
            ]
          },
          "metadata": {
            "tags": []
          },
          "execution_count": 26
        }
      ]
    },
    {
      "cell_type": "code",
      "metadata": {
        "id": "MvyvrSm2Z8pc",
        "colab_type": "code",
        "outputId": "d6eae414-9889-4f6f-f631-24420351b547",
        "colab": {}
      },
      "source": [
        "y_test[0:5]"
      ],
      "execution_count": 0,
      "outputs": [
        {
          "output_type": "execute_result",
          "data": {
            "text/plain": [
              "69     2\n",
              "54     2\n",
              "37     1\n",
              "46     2\n",
              "106    3\n",
              "Name: type, dtype: int32"
            ]
          },
          "metadata": {
            "tags": []
          },
          "execution_count": 27
        }
      ]
    },
    {
      "cell_type": "markdown",
      "metadata": {
        "id": "g4_6tqQzZ8pf",
        "colab_type": "text"
      },
      "source": [
        "## 建立初步模型"
      ]
    },
    {
      "cell_type": "markdown",
      "metadata": {
        "id": "QYsj0FF-Z8pf",
        "colab_type": "text"
      },
      "source": [
        "## KNN"
      ]
    },
    {
      "cell_type": "code",
      "metadata": {
        "id": "Mv5RblWAZ8pf",
        "colab_type": "code",
        "outputId": "02455b0f-9586-4316-816c-485f57c9cb46",
        "colab": {}
      },
      "source": [
        "from sklearn.neighbors import KNeighborsClassifier\n",
        "from sklearn import metrics\n",
        "\n",
        "knn = KNeighborsClassifier(n_neighbors=3, weights='uniform')\n",
        "knn.fit(X_train_std, y_train)\n",
        "\n",
        "print(metrics.classification_report(y_test, knn.predict(X_test_std)))\n",
        "print(metrics.confusion_matrix(y_test, knn.predict(X_test_std)))"
      ],
      "execution_count": 0,
      "outputs": [
        {
          "output_type": "stream",
          "text": [
            "             precision    recall  f1-score   support\n",
            "\n",
            "          1       1.00      1.00      1.00        14\n",
            "          2       0.90      0.90      0.90        10\n",
            "          3       0.92      0.92      0.92        12\n",
            "\n",
            "avg / total       0.94      0.94      0.94        36\n",
            "\n",
            "[[14  0  0]\n",
            " [ 0  9  1]\n",
            " [ 0  1 11]]\n"
          ],
          "name": "stdout"
        }
      ]
    },
    {
      "cell_type": "markdown",
      "metadata": {
        "id": "jBN1XYZwZ8pi",
        "colab_type": "text"
      },
      "source": [
        "## Random Forest"
      ]
    },
    {
      "cell_type": "code",
      "metadata": {
        "id": "LseYS0AFZ8pi",
        "colab_type": "code",
        "outputId": "2f20b0d0-6125-4a7c-a682-a67bb92c2d41",
        "colab": {}
      },
      "source": [
        "from sklearn.ensemble import RandomForestClassifier\n",
        "\n",
        "rfc = RandomForestClassifier(n_estimators=500, criterion='gini', max_features='auto', oob_score=True)\n",
        "rfc.fit(X_train, y_train) #不標準化\n",
        "\n",
        "print(\"oob_score(accuary):\",rfc.oob_score_)\n",
        "print(metrics.classification_report(y_test, rfc.predict(X_test)))"
      ],
      "execution_count": 0,
      "outputs": [
        {
          "output_type": "stream",
          "text": [
            "oob_score(accuary): 0.916666666667\n",
            "             precision    recall  f1-score   support\n",
            "\n",
            "          1       1.00      1.00      1.00        14\n",
            "          2       1.00      0.90      0.95        10\n",
            "          3       0.92      1.00      0.96        12\n",
            "\n",
            "avg / total       0.97      0.97      0.97        36\n",
            "\n"
          ],
          "name": "stdout"
        }
      ]
    },
    {
      "cell_type": "markdown",
      "metadata": {
        "id": "ereHD4_cZ8pl",
        "colab_type": "text"
      },
      "source": [
        "## 貝式分類器"
      ]
    },
    {
      "cell_type": "code",
      "metadata": {
        "id": "DxyVTTp6Z8pm",
        "colab_type": "code",
        "outputId": "5b1caa28-7510-4f1c-fd26-054a64e4aaa2",
        "colab": {}
      },
      "source": [
        "from sklearn.naive_bayes import GaussianNB\n",
        "gnb = GaussianNB()\n",
        "gnb.fit(X_train_std, y_train)\n",
        "\n",
        "print(metrics.classification_report(y_test, gnb.predict(X_test_std)))\n",
        "print(metrics.confusion_matrix(y_test, gnb.predict(X_test_std)))"
      ],
      "execution_count": 0,
      "outputs": [
        {
          "output_type": "stream",
          "text": [
            "             precision    recall  f1-score   support\n",
            "\n",
            "          1       1.00      1.00      1.00        14\n",
            "          2       1.00      0.90      0.95        10\n",
            "          3       0.92      1.00      0.96        12\n",
            "\n",
            "avg / total       0.97      0.97      0.97        36\n",
            "\n",
            "[[14  0  0]\n",
            " [ 0  9  1]\n",
            " [ 0  0 12]]\n"
          ],
          "name": "stdout"
        }
      ]
    },
    {
      "cell_type": "markdown",
      "metadata": {
        "id": "SqCUhm4VZ8po",
        "colab_type": "text"
      },
      "source": [
        "## SVM"
      ]
    },
    {
      "cell_type": "code",
      "metadata": {
        "id": "_djUx0i5Z8pp",
        "colab_type": "code",
        "outputId": "727631f4-dc5d-41a0-f6f4-d3537444ffda",
        "colab": {}
      },
      "source": [
        "from sklearn.svm import SVC\n",
        "\n",
        "svc = SVC(C=1.0, kernel=\"rbf\", probability=True)\n",
        "svc.fit(X_train_std, y_train)\n",
        "\n",
        "print(metrics.classification_report(y_test, svc.predict(X_test_std)))\n",
        "print(metrics.confusion_matrix(y_test, svc.predict(X_test_std)))"
      ],
      "execution_count": 0,
      "outputs": [
        {
          "output_type": "stream",
          "text": [
            "             precision    recall  f1-score   support\n",
            "\n",
            "          1       1.00      1.00      1.00        14\n",
            "          2       1.00      0.90      0.95        10\n",
            "          3       0.92      1.00      0.96        12\n",
            "\n",
            "avg / total       0.97      0.97      0.97        36\n",
            "\n",
            "[[14  0  0]\n",
            " [ 0  9  1]\n",
            " [ 0  0 12]]\n"
          ],
          "name": "stdout"
        }
      ]
    },
    {
      "cell_type": "markdown",
      "metadata": {
        "id": "46vM77o6Z8pr",
        "colab_type": "text"
      },
      "source": [
        "## Stacking\n",
        "website: http://rasbt.github.io/mlxtend/"
      ]
    },
    {
      "cell_type": "code",
      "metadata": {
        "id": "iCjhZOeWZ8pr",
        "colab_type": "code",
        "outputId": "ad0db8fa-a6bf-4f1a-ff76-03d4bdfe8154",
        "colab": {}
      },
      "source": [
        "#from sklearn.linear_model import LogisticRegression\n",
        "from sklearn.neighbors import KNeighborsClassifier\n",
        "from sklearn.naive_bayes import GaussianNB\n",
        "from sklearn.svm import SVC\n",
        "from sklearn.ensemble import RandomForestClassifier\n",
        "from mlxtend.classifier import StackingClassifier\n",
        "import xgboost as xgb\n",
        "\n",
        "clf1 = KNeighborsClassifier(n_neighbors=3, weights='uniform')\n",
        "clf2 = RandomForestClassifier(n_estimators=500, criterion='gini', max_features='auto', oob_score=True)\n",
        "clf3 = GaussianNB()\n",
        "clf4 = SVC(C=1.0, kernel=\"rbf\", probability=True)\n",
        "meta_clf = xgb.XGBClassifier(n_estimators= 2000, max_depth= 4)\n",
        "stacking_clf = StackingClassifier(classifiers=[clf1, clf2, clf3, clf4], meta_classifier=meta_clf)\n",
        "\n",
        "clf1.fit(X_train_std, y_train)\n",
        "clf2.fit(X_train, y_train)\n",
        "clf3.fit(X_train_std, y_train)\n",
        "clf4.fit(X_train_std, y_train)\n",
        "stacking_clf.fit(X_train_std, y_train)\n",
        "\n",
        "print('KNN Score:',clf1.score(X_test_std, y_test))\n",
        "print('RF Score:',clf2.score(X_test, y_test))\n",
        "print('GNB Score:',clf3.score(X_test_std, y_test))\n",
        "print('SVC Score:',clf4.score(X_test_std, y_test))\n",
        "print('Stacking Score:',stacking_clf.score(X_test_std, y_test))"
      ],
      "execution_count": 0,
      "outputs": [
        {
          "output_type": "stream",
          "text": [
            "C:\\Anaconda3\\lib\\site-packages\\sklearn\\cross_validation.py:41: DeprecationWarning: This module was deprecated in version 0.18 in favor of the model_selection module into which all the refactored classes and functions are moved. Also note that the interface of the new CV iterators are different from that of this module. This module will be removed in 0.20.\n",
            "  \"This module will be removed in 0.20.\", DeprecationWarning)\n"
          ],
          "name": "stderr"
        },
        {
          "output_type": "stream",
          "text": [
            "KNN Score: 0.944444444444\n",
            "RF Score: 0.972222222222\n",
            "GNB Score: 0.972222222222\n",
            "SVC Score: 0.972222222222\n",
            "Stacking Score: 0.972222222222\n"
          ],
          "name": "stdout"
        }
      ]
    },
    {
      "cell_type": "markdown",
      "metadata": {
        "id": "0F2FZjjvZ8pw",
        "colab_type": "text"
      },
      "source": [
        "## XGBoost\n",
        "\n",
        "詳細說明: \n",
        "         <p>(ENG) https://www.analyticsvidhya.com/blog/2016/03/complete-guide-parameter-tuning-xgboost-with-codes-python/</p>\n",
        "         <p>(CHT) http://www.itread01.com/articles/1476146171.html</p>"
      ]
    },
    {
      "cell_type": "code",
      "metadata": {
        "id": "ng6BWOO1Z8pw",
        "colab_type": "code",
        "outputId": "6d2be07e-0b24-446e-815c-abf257dad1b4",
        "colab": {}
      },
      "source": [
        "import xgboost as xgb\n",
        "\n",
        "gbm = xgb.XGBClassifier(n_estimators= 2000, max_depth= 4).fit(X_train, y_train)\n",
        "\n",
        "print(metrics.classification_report(y_test, gbm.predict(X_test)))\n",
        "print(\"Score:\", gbm.score(X_test, y_test))"
      ],
      "execution_count": 0,
      "outputs": [
        {
          "output_type": "stream",
          "text": [
            "             precision    recall  f1-score   support\n",
            "\n",
            "          1       1.00      1.00      1.00        14\n",
            "          2       1.00      0.90      0.95        10\n",
            "          3       0.92      1.00      0.96        12\n",
            "\n",
            "avg / total       0.97      0.97      0.97        36\n",
            "\n",
            "Score: 0.972222222222\n"
          ],
          "name": "stdout"
        }
      ]
    },
    {
      "cell_type": "code",
      "metadata": {
        "id": "cyFm3V5VZ8pz",
        "colab_type": "code",
        "outputId": "2c5488f8-188e-4ce5-e4d1-971576302fa7",
        "colab": {}
      },
      "source": [
        "print(gbm.feature_importances_)"
      ],
      "execution_count": 0,
      "outputs": [
        {
          "output_type": "stream",
          "text": [
            "[ 0.23069175  0.1608462   0.53055739  0.07790463]\n"
          ],
          "name": "stdout"
        }
      ]
    },
    {
      "cell_type": "code",
      "metadata": {
        "id": "Dno8lyMpZ8p2",
        "colab_type": "code",
        "outputId": "2f2ef93d-4a8e-4d2b-8acc-6658fc908215",
        "colab": {}
      },
      "source": [
        "from xgboost import plot_importance\n",
        "plot_importance(gbm, )\n",
        "plt.show()"
      ],
      "execution_count": 0,
      "outputs": [
        {
          "output_type": "display_data",
          "data": {
            "image/png": "[encoded data removed]",
            "text/plain": [
              "<matplotlib.figure.Figure at 0xdd44400>"
            ]
          },
          "metadata": {
            "tags": []
          }
        }
      ]
    },
    {
      "cell_type": "code",
      "metadata": {
        "collapsed": true,
        "id": "RZAblUV9Z8p4",
        "colab_type": "code",
        "colab": {}
      },
      "source": [
        "pred = gbm.predict(test[['花瓣寬度','花瓣長度','花萼寬度','花萼長度']])"
      ],
      "execution_count": 0,
      "outputs": []
    },
    {
      "cell_type": "code",
      "metadata": {
        "id": "2fwrEAEpZ8p8",
        "colab_type": "code",
        "outputId": "36cfc43a-a972-4a59-f1f5-ad9e01ef2a4a",
        "colab": {}
      },
      "source": [
        "pred"
      ],
      "execution_count": 0,
      "outputs": [
        {
          "output_type": "execute_result",
          "data": {
            "text/plain": [
              "array([1, 1, 1, 1, 1, 1, 1, 1, 1, 1, 2, 2, 2, 2, 2, 2, 2, 2, 2, 2, 3, 3, 3,\n",
              "       3, 3, 3, 2, 3, 3, 3])"
            ]
          },
          "metadata": {
            "tags": []
          },
          "execution_count": 37
        }
      ]
    },
    {
      "cell_type": "code",
      "metadata": {
        "collapsed": true,
        "id": "wdGTllQhZ8p-",
        "colab_type": "code",
        "colab": {}
      },
      "source": [
        "# Generate Submission File \n",
        "StackingSubmission = pd.DataFrame({ 'id': submission.id, 'type': pred })\n",
        "StackingSubmission.to_csv(\"submission.csv\", index=False)"
      ],
      "execution_count": 0,
      "outputs": []
    },
    {
      "cell_type": "code",
      "metadata": {
        "id": "X2Vzwp3TZ8qB",
        "colab_type": "code",
        "outputId": "da8c7ee9-1f92-4bf6-9a3f-3ee5ab30aa67",
        "colab": {}
      },
      "source": [
        "submission = pd.read_csv('submission.csv', encoding = \"utf-8\", dtype = {'type': np.int32})\n",
        "submission"
      ],
      "execution_count": 0,
      "outputs": [
        {
          "output_type": "execute_result",
          "data": {
            "text/html": [
              "<div>\n",
              "<style>\n",
              "    .dataframe thead tr:only-child th {\n",
              "        text-align: right;\n",
              "    }\n",
              "\n",
              "    .dataframe thead th {\n",
              "        text-align: left;\n",
              "    }\n",
              "\n",
              "    .dataframe tbody tr th {\n",
              "        vertical-align: top;\n",
              "    }\n",
              "</style>\n",
              "<table border=\"1\" class=\"dataframe\">\n",
              "  <thead>\n",
              "    <tr style=\"text-align: right;\">\n",
              "      <th></th>\n",
              "      <th>id</th>\n",
              "      <th>type</th>\n",
              "    </tr>\n",
              "  </thead>\n",
              "  <tbody>\n",
              "    <tr>\n",
              "      <th>0</th>\n",
              "      <td>1</td>\n",
              "      <td>1</td>\n",
              "    </tr>\n",
              "    <tr>\n",
              "      <th>1</th>\n",
              "      <td>2</td>\n",
              "      <td>1</td>\n",
              "    </tr>\n",
              "    <tr>\n",
              "      <th>2</th>\n",
              "      <td>3</td>\n",
              "      <td>1</td>\n",
              "    </tr>\n",
              "    <tr>\n",
              "      <th>3</th>\n",
              "      <td>4</td>\n",
              "      <td>1</td>\n",
              "    </tr>\n",
              "    <tr>\n",
              "      <th>4</th>\n",
              "      <td>5</td>\n",
              "      <td>1</td>\n",
              "    </tr>\n",
              "    <tr>\n",
              "      <th>5</th>\n",
              "      <td>6</td>\n",
              "      <td>1</td>\n",
              "    </tr>\n",
              "    <tr>\n",
              "      <th>6</th>\n",
              "      <td>7</td>\n",
              "      <td>1</td>\n",
              "    </tr>\n",
              "    <tr>\n",
              "      <th>7</th>\n",
              "      <td>8</td>\n",
              "      <td>1</td>\n",
              "    </tr>\n",
              "    <tr>\n",
              "      <th>8</th>\n",
              "      <td>9</td>\n",
              "      <td>1</td>\n",
              "    </tr>\n",
              "    <tr>\n",
              "      <th>9</th>\n",
              "      <td>10</td>\n",
              "      <td>1</td>\n",
              "    </tr>\n",
              "    <tr>\n",
              "      <th>10</th>\n",
              "      <td>11</td>\n",
              "      <td>2</td>\n",
              "    </tr>\n",
              "    <tr>\n",
              "      <th>11</th>\n",
              "      <td>12</td>\n",
              "      <td>2</td>\n",
              "    </tr>\n",
              "    <tr>\n",
              "      <th>12</th>\n",
              "      <td>13</td>\n",
              "      <td>2</td>\n",
              "    </tr>\n",
              "    <tr>\n",
              "      <th>13</th>\n",
              "      <td>14</td>\n",
              "      <td>2</td>\n",
              "    </tr>\n",
              "    <tr>\n",
              "      <th>14</th>\n",
              "      <td>15</td>\n",
              "      <td>2</td>\n",
              "    </tr>\n",
              "    <tr>\n",
              "      <th>15</th>\n",
              "      <td>16</td>\n",
              "      <td>2</td>\n",
              "    </tr>\n",
              "    <tr>\n",
              "      <th>16</th>\n",
              "      <td>17</td>\n",
              "      <td>2</td>\n",
              "    </tr>\n",
              "    <tr>\n",
              "      <th>17</th>\n",
              "      <td>18</td>\n",
              "      <td>2</td>\n",
              "    </tr>\n",
              "    <tr>\n",
              "      <th>18</th>\n",
              "      <td>19</td>\n",
              "      <td>2</td>\n",
              "    </tr>\n",
              "    <tr>\n",
              "      <th>19</th>\n",
              "      <td>20</td>\n",
              "      <td>2</td>\n",
              "    </tr>\n",
              "    <tr>\n",
              "      <th>20</th>\n",
              "      <td>21</td>\n",
              "      <td>3</td>\n",
              "    </tr>\n",
              "    <tr>\n",
              "      <th>21</th>\n",
              "      <td>22</td>\n",
              "      <td>3</td>\n",
              "    </tr>\n",
              "    <tr>\n",
              "      <th>22</th>\n",
              "      <td>23</td>\n",
              "      <td>3</td>\n",
              "    </tr>\n",
              "    <tr>\n",
              "      <th>23</th>\n",
              "      <td>24</td>\n",
              "      <td>3</td>\n",
              "    </tr>\n",
              "    <tr>\n",
              "      <th>24</th>\n",
              "      <td>25</td>\n",
              "      <td>3</td>\n",
              "    </tr>\n",
              "    <tr>\n",
              "      <th>25</th>\n",
              "      <td>26</td>\n",
              "      <td>3</td>\n",
              "    </tr>\n",
              "    <tr>\n",
              "      <th>26</th>\n",
              "      <td>27</td>\n",
              "      <td>2</td>\n",
              "    </tr>\n",
              "    <tr>\n",
              "      <th>27</th>\n",
              "      <td>28</td>\n",
              "      <td>3</td>\n",
              "    </tr>\n",
              "    <tr>\n",
              "      <th>28</th>\n",
              "      <td>29</td>\n",
              "      <td>3</td>\n",
              "    </tr>\n",
              "    <tr>\n",
              "      <th>29</th>\n",
              "      <td>30</td>\n",
              "      <td>3</td>\n",
              "    </tr>\n",
              "  </tbody>\n",
              "</table>\n",
              "</div>"
            ],
            "text/plain": [
              "    id  type\n",
              "0    1     1\n",
              "1    2     1\n",
              "2    3     1\n",
              "3    4     1\n",
              "4    5     1\n",
              "5    6     1\n",
              "6    7     1\n",
              "7    8     1\n",
              "8    9     1\n",
              "9   10     1\n",
              "10  11     2\n",
              "11  12     2\n",
              "12  13     2\n",
              "13  14     2\n",
              "14  15     2\n",
              "15  16     2\n",
              "16  17     2\n",
              "17  18     2\n",
              "18  19     2\n",
              "19  20     2\n",
              "20  21     3\n",
              "21  22     3\n",
              "22  23     3\n",
              "23  24     3\n",
              "24  25     3\n",
              "25  26     3\n",
              "26  27     2\n",
              "27  28     3\n",
              "28  29     3\n",
              "29  30     3"
            ]
          },
          "metadata": {
            "tags": []
          },
          "execution_count": 39
        }
      ]
    },
    {
      "cell_type": "code",
      "metadata": {
        "id": "oXTO8tdPZ8qE",
        "colab_type": "code",
        "outputId": "5724bd4a-6257-4187-d86e-4b00ee221bbc",
        "colab": {}
      },
      "source": [
        "test[20:30]"
      ],
      "execution_count": 0,
      "outputs": [
        {
          "output_type": "execute_result",
          "data": {
            "text/html": [
              "<div>\n",
              "<style>\n",
              "    .dataframe thead tr:only-child th {\n",
              "        text-align: right;\n",
              "    }\n",
              "\n",
              "    .dataframe thead th {\n",
              "        text-align: left;\n",
              "    }\n",
              "\n",
              "    .dataframe tbody tr th {\n",
              "        vertical-align: top;\n",
              "    }\n",
              "</style>\n",
              "<table border=\"1\" class=\"dataframe\">\n",
              "  <thead>\n",
              "    <tr style=\"text-align: right;\">\n",
              "      <th></th>\n",
              "      <th>id</th>\n",
              "      <th>花萼長度</th>\n",
              "      <th>花萼寬度</th>\n",
              "      <th>花瓣長度</th>\n",
              "      <th>花瓣寬度</th>\n",
              "    </tr>\n",
              "  </thead>\n",
              "  <tbody>\n",
              "    <tr>\n",
              "      <th>20</th>\n",
              "      <td>21</td>\n",
              "      <td>6.3</td>\n",
              "      <td>3.3</td>\n",
              "      <td>6.0</td>\n",
              "      <td>2.5</td>\n",
              "    </tr>\n",
              "    <tr>\n",
              "      <th>21</th>\n",
              "      <td>22</td>\n",
              "      <td>5.8</td>\n",
              "      <td>2.7</td>\n",
              "      <td>5.1</td>\n",
              "      <td>1.9</td>\n",
              "    </tr>\n",
              "    <tr>\n",
              "      <th>22</th>\n",
              "      <td>23</td>\n",
              "      <td>7.1</td>\n",
              "      <td>3.0</td>\n",
              "      <td>5.9</td>\n",
              "      <td>2.1</td>\n",
              "    </tr>\n",
              "    <tr>\n",
              "      <th>23</th>\n",
              "      <td>24</td>\n",
              "      <td>6.3</td>\n",
              "      <td>2.9</td>\n",
              "      <td>5.6</td>\n",
              "      <td>1.8</td>\n",
              "    </tr>\n",
              "    <tr>\n",
              "      <th>24</th>\n",
              "      <td>25</td>\n",
              "      <td>6.5</td>\n",
              "      <td>3.0</td>\n",
              "      <td>5.8</td>\n",
              "      <td>2.2</td>\n",
              "    </tr>\n",
              "    <tr>\n",
              "      <th>25</th>\n",
              "      <td>26</td>\n",
              "      <td>7.6</td>\n",
              "      <td>3.0</td>\n",
              "      <td>6.6</td>\n",
              "      <td>2.1</td>\n",
              "    </tr>\n",
              "    <tr>\n",
              "      <th>26</th>\n",
              "      <td>27</td>\n",
              "      <td>4.9</td>\n",
              "      <td>2.5</td>\n",
              "      <td>4.5</td>\n",
              "      <td>1.7</td>\n",
              "    </tr>\n",
              "    <tr>\n",
              "      <th>27</th>\n",
              "      <td>28</td>\n",
              "      <td>7.3</td>\n",
              "      <td>2.9</td>\n",
              "      <td>6.3</td>\n",
              "      <td>1.8</td>\n",
              "    </tr>\n",
              "    <tr>\n",
              "      <th>28</th>\n",
              "      <td>29</td>\n",
              "      <td>6.7</td>\n",
              "      <td>2.5</td>\n",
              "      <td>5.8</td>\n",
              "      <td>1.8</td>\n",
              "    </tr>\n",
              "    <tr>\n",
              "      <th>29</th>\n",
              "      <td>30</td>\n",
              "      <td>7.2</td>\n",
              "      <td>3.6</td>\n",
              "      <td>6.1</td>\n",
              "      <td>2.5</td>\n",
              "    </tr>\n",
              "  </tbody>\n",
              "</table>\n",
              "</div>"
            ],
            "text/plain": [
              "    id  花萼長度  花萼寬度  花瓣長度  花瓣寬度\n",
              "20  21   6.3   3.3   6.0   2.5\n",
              "21  22   5.8   2.7   5.1   1.9\n",
              "22  23   7.1   3.0   5.9   2.1\n",
              "23  24   6.3   2.9   5.6   1.8\n",
              "24  25   6.5   3.0   5.8   2.2\n",
              "25  26   7.6   3.0   6.6   2.1\n",
              "26  27   4.9   2.5   4.5   1.7\n",
              "27  28   7.3   2.9   6.3   1.8\n",
              "28  29   6.7   2.5   5.8   1.8\n",
              "29  30   7.2   3.6   6.1   2.5"
            ]
          },
          "metadata": {
            "tags": []
          },
          "execution_count": 40
        }
      ]
    },
    {
      "cell_type": "markdown",
      "metadata": {
        "id": "ZXzoMcyiZ8qH",
        "colab_type": "text"
      },
      "source": [
        "## 測試資料集的預測結果比較"
      ]
    },
    {
      "cell_type": "code",
      "metadata": {
        "collapsed": true,
        "id": "QVJ5mq-HZ8qH",
        "colab_type": "code",
        "colab": {}
      },
      "source": [
        "#使用先前 training set的scale fit做縮放\n",
        "test_std = sc.transform(test[['花瓣寬度','花瓣長度','花萼寬度','花萼長度']])"
      ],
      "execution_count": 0,
      "outputs": []
    },
    {
      "cell_type": "code",
      "metadata": {
        "id": "h8SmwR4qZ8qL",
        "colab_type": "code",
        "outputId": "4faba4c2-08f8-4143-9c05-fef19eb75f76",
        "colab": {}
      },
      "source": [
        "submission_stk = stacking_clf.predict(test_std)\n",
        "submission_stk"
      ],
      "execution_count": 0,
      "outputs": [
        {
          "output_type": "execute_result",
          "data": {
            "text/plain": [
              "array([1, 1, 1, 1, 1, 1, 1, 1, 1, 1, 2, 2, 2, 2, 2, 2, 2, 2, 2, 2, 3, 3, 3,\n",
              "       3, 3, 3, 2, 3, 3, 3])"
            ]
          },
          "metadata": {
            "tags": []
          },
          "execution_count": 42
        }
      ]
    },
    {
      "cell_type": "code",
      "metadata": {
        "id": "Jq-OOecSZ8qN",
        "colab_type": "code",
        "outputId": "2588f842-7848-4834-f0a1-42848b839242",
        "colab": {}
      },
      "source": [
        "submission_rfc = rfc.predict(test[['花瓣寬度','花瓣長度','花萼寬度','花萼長度']])\n",
        "submission_rfc"
      ],
      "execution_count": 0,
      "outputs": [
        {
          "output_type": "execute_result",
          "data": {
            "text/plain": [
              "array([1, 1, 1, 1, 1, 1, 1, 1, 1, 1, 2, 2, 2, 2, 2, 2, 2, 2, 2, 2, 3, 3, 3,\n",
              "       3, 3, 3, 2, 3, 3, 3])"
            ]
          },
          "metadata": {
            "tags": []
          },
          "execution_count": 43
        }
      ]
    },
    {
      "cell_type": "code",
      "metadata": {
        "id": "vHTrndAqZ8qP",
        "colab_type": "code",
        "outputId": "7f843b44-a27b-40a7-d57f-478b51e2b7d3",
        "colab": {}
      },
      "source": [
        "submission_knn =knn.predict(test_std)\n",
        "submission_knn"
      ],
      "execution_count": 0,
      "outputs": [
        {
          "output_type": "execute_result",
          "data": {
            "text/plain": [
              "array([1, 1, 1, 1, 1, 1, 1, 1, 1, 1, 2, 2, 2, 2, 2, 2, 2, 2, 2, 2, 3, 3, 3,\n",
              "       3, 3, 3, 2, 3, 3, 3])"
            ]
          },
          "metadata": {
            "tags": []
          },
          "execution_count": 44
        }
      ]
    },
    {
      "cell_type": "code",
      "metadata": {
        "id": "x99WSeRAZ8qS",
        "colab_type": "code",
        "outputId": "d499a14d-1f9c-45c2-fdea-94cd216e4255",
        "colab": {}
      },
      "source": [
        "submission_gnb = gnb.predict(test_std)\n",
        "submission_gnb"
      ],
      "execution_count": 0,
      "outputs": [
        {
          "output_type": "execute_result",
          "data": {
            "text/plain": [
              "array([1, 1, 1, 1, 1, 1, 1, 1, 1, 1, 3, 2, 3, 2, 2, 2, 3, 2, 2, 2, 3, 3, 3,\n",
              "       3, 3, 3, 2, 3, 3, 3])"
            ]
          },
          "metadata": {
            "tags": []
          },
          "execution_count": 45
        }
      ]
    },
    {
      "cell_type": "code",
      "metadata": {
        "id": "vpWi8GHlZ8qU",
        "colab_type": "code",
        "outputId": "d8cffeb3-7044-4947-e5ca-33a8445155d7",
        "colab": {}
      },
      "source": [
        "submission_svc = svc.predict(test_std)\n",
        "submission_svc"
      ],
      "execution_count": 0,
      "outputs": [
        {
          "output_type": "execute_result",
          "data": {
            "text/plain": [
              "array([1, 1, 1, 1, 1, 1, 1, 1, 1, 1, 2, 2, 2, 2, 2, 2, 2, 2, 2, 2, 3, 3, 3,\n",
              "       3, 3, 3, 3, 3, 3, 3])"
            ]
          },
          "metadata": {
            "tags": []
          },
          "execution_count": 46
        }
      ]
    },
    {
      "cell_type": "code",
      "metadata": {
        "id": "xSFrO9GRZ8qW",
        "colab_type": "code",
        "outputId": "cff652f7-5c3c-4ced-e65d-a3b839b1293b",
        "colab": {}
      },
      "source": [
        "from sklearn.ensemble import VotingClassifier\n",
        "clf1 = knn\n",
        "clf2 = rfc\n",
        "clf3 = gnb\n",
        "clf4 = svc\n",
        "\n",
        "eclf = VotingClassifier(estimators=[('knn', clf1), ('rfc', clf2),('gnb', clf3),('svc',clf4)], voting='hard', weights=[1, 1, 1, 4])\n",
        "eclf.fit(X_train_std, y_train)\n",
        "print(metrics.classification_report(y_test, eclf.predict(X_test_std)))"
      ],
      "execution_count": 0,
      "outputs": [
        {
          "output_type": "stream",
          "text": [
            "             precision    recall  f1-score   support\n",
            "\n",
            "          1       1.00      1.00      1.00        14\n",
            "          2       1.00      0.90      0.95        10\n",
            "          3       0.92      1.00      0.96        12\n",
            "\n",
            "avg / total       0.97      0.97      0.97        36\n",
            "\n"
          ],
          "name": "stdout"
        }
      ]
    },
    {
      "cell_type": "code",
      "metadata": {
        "id": "vk5jArwlZ8qZ",
        "colab_type": "code",
        "outputId": "13940d9f-c2ea-441e-f972-c6d4da849365",
        "colab": {}
      },
      "source": [
        "submission_eclf = eclf.predict(test_std)\n",
        "submission_eclf"
      ],
      "execution_count": 0,
      "outputs": [
        {
          "output_type": "execute_result",
          "data": {
            "text/plain": [
              "array([1, 1, 1, 1, 1, 1, 1, 1, 1, 1, 2, 2, 2, 2, 2, 2, 2, 2, 2, 2, 3, 3, 3,\n",
              "       3, 3, 3, 3, 3, 3, 3])"
            ]
          },
          "metadata": {
            "tags": []
          },
          "execution_count": 48
        }
      ]
    },
    {
      "cell_type": "code",
      "metadata": {
        "collapsed": true,
        "id": "2jz9r3bIZ8qc",
        "colab_type": "code",
        "colab": {}
      },
      "source": [
        ""
      ],
      "execution_count": 0,
      "outputs": []
    }
  ]
}